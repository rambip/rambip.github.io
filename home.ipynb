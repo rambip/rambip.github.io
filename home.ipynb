{
 "cells": [
  {
   "cell_type": "markdown",
   "id": "6e6e4c50-1e31-4919-977e-5eae2c927420",
   "metadata": {},
   "source": [
    "# Antonin's Website\n",
    "\n",
    "Hey ! It's me, Antonin @rambip\n",
    "\n",
    "As you probably notice, this is not a very usual website. But I bet you will love it !"
   ]
  },
  {
   "cell_type": "code",
   "execution_count": 6,
   "id": "74cd211b-244a-478d-904b-c01a433502b6",
   "metadata": {},
   "outputs": [
    {
     "data": {
      "text/html": [
       "<div><style>\n",
       ".dataframe > thead > tr,\n",
       ".dataframe > tbody > tr {\n",
       "  text-align: right;\n",
       "  white-space: pre-wrap;\n",
       "}\n",
       "</style>\n",
       "<table border=\"1\" class=\"dataframe\"><thead><tr><th>name</th><th>alias</th><th>age</th><th>current_education</th></tr></thead><tbody><tr><td>&quot;Antonin&quot;</td><td>&quot;@rambip&quot;</td><td>21</td><td>&quot;Télécom Paris (year break)&quot;</td></tr></tbody></table></div>"
      ],
      "text/plain": [
       "┌─────────┬─────────┬─────┬────────────────────────────┐\n",
       "│ name    ┆ alias   ┆ age ┆ current_education          │\n",
       "╞═════════╪═════════╪═════╪════════════════════════════╡\n",
       "│ Antonin ┆ @rambip ┆ 21  ┆ Télécom Paris (year break) │\n",
       "└─────────┴─────────┴─────┴────────────────────────────┘"
      ]
     },
     "execution_count": 6,
     "metadata": {},
     "output_type": "execute_result"
    }
   ],
   "source": [
    "from myself import info\n",
    "info"
   ]
  },
  {
   "cell_type": "markdown",
   "id": "47c2d585-72a8-4eb3-b613-613d9d565bf5",
   "metadata": {},
   "source": [
    "## About this website\n",
    "\n",
    "Here, you can learn more about what I do and what I love. I also try to share anything that can be interesting to people.\n",
    "\n",
    "- Programming projects\n",
    "    - [Rubik's cube in 10 lines of numpy](./rubiks.html)\n",
    "    - [A 3d plant mesh generator](https://github.com/rambip/plant-mesh/)\n",
    " \n",
    "- Theorical interests\n",
    "    - [Information theory](./info_theory.html)\n",
    "\n",
    "- Academic world\n",
    "    - [Here](./academic.html)\n",
    "\n",
    "- Writing\n",
    "    - [Short stories](./stories.html)"
   ]
  },
  {
   "cell_type": "markdown",
   "id": "484fa877-7325-49e1-914a-bb77410988f7",
   "metadata": {},
   "source": [
    "## Where to find me:\n",
    "\n",
    "- [Github](https://github.com/rambip)\n",
    "- [Linkedin](https://www.linkedin.com/in/antonin-peronnet-a5496a242/)"
   ]
  },
  {
   "cell_type": "code",
   "execution_count": null,
   "id": "81668cf3-1dd4-4f13-a787-a6b34f3c33be",
   "metadata": {},
   "outputs": [],
   "source": []
  }
 ],
 "metadata": {
  "kernelspec": {
   "display_name": "Python 3 (ipykernel)",
   "language": "python",
   "name": "python3"
  },
  "language_info": {
   "codemirror_mode": {
    "name": "ipython",
    "version": 3
   },
   "file_extension": ".py",
   "mimetype": "text/x-python",
   "name": "python",
   "nbconvert_exporter": "python",
   "pygments_lexer": "ipython3",
   "version": "3.13.3"
  }
 },
 "nbformat": 4,
 "nbformat_minor": 5
}
