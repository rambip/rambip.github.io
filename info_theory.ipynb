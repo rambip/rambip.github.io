{
 "cells": [
  {
   "cell_type": "markdown",
   "id": "c3d72ff5-4d32-4cdb-918a-87ec60eb0237",
   "metadata": {},
   "source": [
    "# Information theory is so great"
   ]
  },
  {
   "cell_type": "markdown",
   "id": "7e9c7afa-09d0-4027-aa22-8bdbbd73a98f",
   "metadata": {},
   "source": [
    "This is an attempt at proving rigorously the famous Shannon decoding theorem.\n",
    "I will not explain what it is here, but if you want a good proof, here you go !"
   ]
  },
  {
   "cell_type": "code",
   "execution_count": 1,
   "id": "39ab2d68-2f42-47c0-8650-df2196ba486b",
   "metadata": {},
   "outputs": [],
   "source": [
    "from myself import asset"
   ]
  },
  {
   "cell_type": "code",
   "execution_count": 3,
   "id": "fc3c54f7-c8fa-4b5d-b9ed-2daa890d96cc",
   "metadata": {},
   "outputs": [
    {
     "data": {
      "text/html": [
       "\n",
       "        <iframe\n",
       "            width=\"700\"\n",
       "            height=\"1000\"\n",
       "            src=\"assets/7460548455729470857.pdf\"\n",
       "            frameborder=\"0\"\n",
       "            allowfullscreen\n",
       "            \n",
       "        ></iframe>\n",
       "        "
      ],
      "text/plain": [
       "<IPython.lib.display.IFrame at 0x7fc02b785a90>"
      ]
     },
     "execution_count": 3,
     "metadata": {},
     "output_type": "execute_result"
    }
   ],
   "source": [
    "asset(\"maths-telecom-paris/shanon.pdf\")"
   ]
  },
  {
   "cell_type": "code",
   "execution_count": null,
   "id": "b2a5d0f9-03c5-4815-a7e4-91f0c9db17f0",
   "metadata": {},
   "outputs": [],
   "source": []
  }
 ],
 "metadata": {
  "kernelspec": {
   "display_name": "Python 3 (ipykernel)",
   "language": "python",
   "name": "python3"
  },
  "language_info": {
   "codemirror_mode": {
    "name": "ipython",
    "version": 3
   },
   "file_extension": ".py",
   "mimetype": "text/x-python",
   "name": "python",
   "nbconvert_exporter": "python",
   "pygments_lexer": "ipython3",
   "version": "3.13.3"
  }
 },
 "nbformat": 4,
 "nbformat_minor": 5
}
