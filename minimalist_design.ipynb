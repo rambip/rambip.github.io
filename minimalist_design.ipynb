{
 "cells": [
  {
   "cell_type": "markdown",
   "id": "06479e92-258e-40ba-94cb-c2d27a2f7090",
   "metadata": {},
   "source": [
    "# Minimalist design\n",
    "\n",
    "During my school year 2024-2025 in France, I had to write an essay.\n",
    "It had to be around 30_000 characters, include a part of bibliography and a part of personnal reflection.\n",
    "\n",
    "I chose to write about minimalism in design.\n",
    "\n",
    "*Disclaimer*: I have not taken much courses on design, so I know it is naive at times.\n",
    "\n",
    "\n",
    "Have a good read !"
   ]
  },
  {
   "cell_type": "code",
   "execution_count": 4,
   "id": "4edc3c9f-39f2-40fa-974e-4d6400ade8f7",
   "metadata": {},
   "outputs": [
    {
     "data": {
      "text/html": [
       "\n",
       "        <iframe\n",
       "            width=\"700\"\n",
       "            height=\"1000\"\n",
       "            src=\"assets/-4703345707284718118.pdf\"\n",
       "            frameborder=\"0\"\n",
       "            allowfullscreen\n",
       "            \n",
       "        ></iframe>\n",
       "        "
      ],
      "text/plain": [
       "<IPython.lib.display.IFrame at 0x7fc0289d3c50>"
      ]
     },
     "execution_count": 4,
     "metadata": {},
     "output_type": "execute_result"
    }
   ],
   "source": [
    "from myself import asset\n",
    "asset(\"minimalist-design/pdf/PACE.pdf\")"
   ]
  },
  {
   "cell_type": "code",
   "execution_count": null,
   "id": "638d339d-2e6c-4d6c-afa4-b0cbe6300a0a",
   "metadata": {},
   "outputs": [],
   "source": []
  }
 ],
 "metadata": {
  "kernelspec": {
   "display_name": "Python 3 (ipykernel)",
   "language": "python",
   "name": "python3"
  },
  "language_info": {
   "codemirror_mode": {
    "name": "ipython",
    "version": 3
   },
   "file_extension": ".py",
   "mimetype": "text/x-python",
   "name": "python",
   "nbconvert_exporter": "python",
   "pygments_lexer": "ipython3",
   "version": "3.13.3"
  }
 },
 "nbformat": 4,
 "nbformat_minor": 5
}
